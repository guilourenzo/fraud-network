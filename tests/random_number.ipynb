{
 "cells": [
  {
   "cell_type": "code",
   "execution_count": 4,
   "metadata": {},
   "outputs": [],
   "source": [
    "import pandas as pd\n",
    "import random"
   ]
  },
  {
   "cell_type": "code",
   "execution_count": 28,
   "metadata": {},
   "outputs": [],
   "source": [
    "def gerar_dataframe_transacoes(num_rows, sender_pool, receiver_pool, amount_range, date_range):\n",
    "  \"\"\"Gera um DataFrame simulando transações.\n",
    "\n",
    "  Args:\n",
    "    num_rows: Número de linhas (transações) a serem geradas.\n",
    "    sender_pool: Lista de possíveis remetentes.\n",
    "    receiver_pool: Lista de possíveis destinatários.\n",
    "    amount_range: Tupla indicando o intervalo mínimo e máximo do valor da transação.\n",
    "    date_range: Tupla indicando a data inicial e final do intervalo de datas.\n",
    "\n",
    "  Returns:\n",
    "    Um DataFrame Pandas com as colunas 'sender', 'receiver', 'amount' e 'timestamp'.\n",
    "  \"\"\"\n",
    "\n",
    "  # Gerando dados aleatórios\n",
    "  senders = [random.choice(sender_pool) for _ in range(num_rows)]\n",
    "  receivers = [random.choice(receiver_pool) for _ in range(num_rows)]\n",
    "  amounts = [random.randint(*amount_range) for _ in range(num_rows)]\n",
    "  timestamps = pd.date_range(start=date_range[0], periods=num_rows, freq='D')\n",
    "\n",
    "  # Criando o DataFrame\n",
    "  df = pd.DataFrame({\n",
    "      'sender': senders,\n",
    "      'receiver': receivers,\n",
    "      'amount': amounts,\n",
    "      'timestamp': timestamps\n",
    "  })\n",
    "\n",
    "  df = df.loc[df.sender != df.receiver]\n",
    "\n",
    "  return df\n"
   ]
  },
  {
   "cell_type": "code",
   "execution_count": 6,
   "metadata": {},
   "outputs": [],
   "source": [
    "\n",
    "# Exemplo de uso:\n",
    "num_rows = 100\n",
    "sender_pool = ['A', 'B', 'C', 'D', 'E', 'F', 'G', 'H', 'I', 'J']\n",
    "receiver_pool = ['A', 'B', 'C', 'D', 'E', 'F', 'G', 'H', 'I', 'J']\n",
    "amount_range = (100, 5000)\n",
    "date_range = ('2023-01-01', '2023-12-31')\n",
    "\n"
   ]
  },
  {
   "cell_type": "code",
   "execution_count": 29,
   "metadata": {},
   "outputs": [],
   "source": [
    "df = gerar_dataframe_transacoes(num_rows, sender_pool, receiver_pool, amount_range, date_range)\n"
   ]
  },
  {
   "cell_type": "code",
   "execution_count": 32,
   "metadata": {},
   "outputs": [
    {
     "data": {
      "text/html": [
       "<div>\n",
       "<style scoped>\n",
       "    .dataframe tbody tr th:only-of-type {\n",
       "        vertical-align: middle;\n",
       "    }\n",
       "\n",
       "    .dataframe tbody tr th {\n",
       "        vertical-align: top;\n",
       "    }\n",
       "\n",
       "    .dataframe thead th {\n",
       "        text-align: right;\n",
       "    }\n",
       "</style>\n",
       "<table border=\"1\" class=\"dataframe\">\n",
       "  <thead>\n",
       "    <tr style=\"text-align: right;\">\n",
       "      <th></th>\n",
       "      <th>sender</th>\n",
       "      <th>receiver</th>\n",
       "      <th>amount</th>\n",
       "      <th>timestamp</th>\n",
       "    </tr>\n",
       "  </thead>\n",
       "  <tbody>\n",
       "  </tbody>\n",
       "</table>\n",
       "</div>"
      ],
      "text/plain": [
       "Empty DataFrame\n",
       "Columns: [sender, receiver, amount, timestamp]\n",
       "Index: []"
      ]
     },
     "execution_count": 32,
     "metadata": {},
     "output_type": "execute_result"
    }
   ],
   "source": [
    "df.loc[df.sender == df.receiver]"
   ]
  },
  {
   "cell_type": "code",
   "execution_count": null,
   "metadata": {},
   "outputs": [],
   "source": []
  },
  {
   "cell_type": "code",
   "execution_count": null,
   "metadata": {},
   "outputs": [],
   "source": []
  }
 ],
 "metadata": {
  "kernelspec": {
   "display_name": "fraud-network-zAmkKrBg-py3.11",
   "language": "python",
   "name": "python3"
  },
  "language_info": {
   "codemirror_mode": {
    "name": "ipython",
    "version": 3
   },
   "file_extension": ".py",
   "mimetype": "text/x-python",
   "name": "python",
   "nbconvert_exporter": "python",
   "pygments_lexer": "ipython3",
   "version": "3.11.9"
  }
 },
 "nbformat": 4,
 "nbformat_minor": 2
}
